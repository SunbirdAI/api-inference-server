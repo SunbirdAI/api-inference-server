{
  "cells": [
    {
      "cell_type": "code",
      "execution_count": 1,
      "metadata": {},
      "outputs": [
        {
          "name": "stdout",
          "output_type": "stream",
          "text": [
            "Requirement already satisfied: azure-ai-ml in /anaconda/envs/azureml_py310_sdkv2/lib/python3.10/site-packages (1.8.0)\n",
            "Requirement already satisfied: azure-identity in /anaconda/envs/azureml_py310_sdkv2/lib/python3.10/site-packages (1.13.0)\n",
            "Requirement already satisfied: pyyaml<7.0.0,>=5.1.0 in /anaconda/envs/azureml_py310_sdkv2/lib/python3.10/site-packages (from azure-ai-ml) (6.0)\n",
            "Requirement already satisfied: msrest>=0.6.18 in /anaconda/envs/azureml_py310_sdkv2/lib/python3.10/site-packages (from azure-ai-ml) (0.7.1)\n",
            "Requirement already satisfied: azure-core<2.0.0,>=1.23.0 in /anaconda/envs/azureml_py310_sdkv2/lib/python3.10/site-packages (from azure-ai-ml) (1.27.1)\n",
            "Requirement already satisfied: azure-mgmt-core<2.0.0,>=1.3.0 in /anaconda/envs/azureml_py310_sdkv2/lib/python3.10/site-packages (from azure-ai-ml) (1.4.0)\n",
            "Requirement already satisfied: marshmallow<4.0.0,>=3.5 in /anaconda/envs/azureml_py310_sdkv2/lib/python3.10/site-packages (from azure-ai-ml) (3.19.0)\n",
            "Requirement already satisfied: jsonschema<5.0.0,>=4.0.0 in /anaconda/envs/azureml_py310_sdkv2/lib/python3.10/site-packages (from azure-ai-ml) (4.17.3)\n",
            "Requirement already satisfied: tqdm<5.0.0 in /anaconda/envs/azureml_py310_sdkv2/lib/python3.10/site-packages (from azure-ai-ml) (4.65.0)\n",
            "Requirement already satisfied: strictyaml<2.0.0 in /anaconda/envs/azureml_py310_sdkv2/lib/python3.10/site-packages (from azure-ai-ml) (1.7.3)\n",
            "Requirement already satisfied: colorama<0.5.0 in /anaconda/envs/azureml_py310_sdkv2/lib/python3.10/site-packages (from azure-ai-ml) (0.4.6)\n",
            "Requirement already satisfied: pyjwt<3.0.0 in /anaconda/envs/azureml_py310_sdkv2/lib/python3.10/site-packages (from azure-ai-ml) (2.7.0)\n",
            "Requirement already satisfied: azure-storage-blob<13.0.0,>=12.10.0 in /anaconda/envs/azureml_py310_sdkv2/lib/python3.10/site-packages (from azure-ai-ml) (12.16.0)\n",
            "Requirement already satisfied: azure-storage-file-share<13.0.0 in /anaconda/envs/azureml_py310_sdkv2/lib/python3.10/site-packages (from azure-ai-ml) (12.12.0)\n",
            "Requirement already satisfied: azure-storage-file-datalake<13.0.0 in /anaconda/envs/azureml_py310_sdkv2/lib/python3.10/site-packages (from azure-ai-ml) (12.11.0)\n",
            "Requirement already satisfied: pydash<6.0.0 in /anaconda/envs/azureml_py310_sdkv2/lib/python3.10/site-packages (from azure-ai-ml) (5.1.2)\n",
            "Requirement already satisfied: isodate in /anaconda/envs/azureml_py310_sdkv2/lib/python3.10/site-packages (from azure-ai-ml) (0.6.1)\n",
            "Requirement already satisfied: azure-common<2.0.0,>=1.1 in /anaconda/envs/azureml_py310_sdkv2/lib/python3.10/site-packages (from azure-ai-ml) (1.1.28)\n",
            "Requirement already satisfied: typing-extensions<5.0.0 in /anaconda/envs/azureml_py310_sdkv2/lib/python3.10/site-packages (from azure-ai-ml) (4.6.3)\n",
            "Requirement already satisfied: opencensus-ext-azure<2.0.0 in /anaconda/envs/azureml_py310_sdkv2/lib/python3.10/site-packages (from azure-ai-ml) (1.1.9)\n",
            "Requirement already satisfied: cryptography>=2.5 in /anaconda/envs/azureml_py310_sdkv2/lib/python3.10/site-packages (from azure-identity) (41.0.1)\n",
            "Requirement already satisfied: msal<2.0.0,>=1.20.0 in /anaconda/envs/azureml_py310_sdkv2/lib/python3.10/site-packages (from azure-identity) (1.22.0)\n",
            "Requirement already satisfied: msal-extensions<2.0.0,>=0.3.0 in /anaconda/envs/azureml_py310_sdkv2/lib/python3.10/site-packages (from azure-identity) (1.0.0)\n",
            "Requirement already satisfied: six>=1.12.0 in /anaconda/envs/azureml_py310_sdkv2/lib/python3.10/site-packages (from azure-identity) (1.16.0)\n",
            "Requirement already satisfied: requests>=2.18.4 in /anaconda/envs/azureml_py310_sdkv2/lib/python3.10/site-packages (from azure-core<2.0.0,>=1.23.0->azure-ai-ml) (2.31.0)\n",
            "Requirement already satisfied: cffi>=1.12 in /anaconda/envs/azureml_py310_sdkv2/lib/python3.10/site-packages (from cryptography>=2.5->azure-identity) (1.15.1)\n",
            "Requirement already satisfied: attrs>=17.4.0 in /anaconda/envs/azureml_py310_sdkv2/lib/python3.10/site-packages (from jsonschema<5.0.0,>=4.0.0->azure-ai-ml) (23.1.0)\n",
            "Requirement already satisfied: pyrsistent!=0.17.0,!=0.17.1,!=0.17.2,>=0.14.0 in /anaconda/envs/azureml_py310_sdkv2/lib/python3.10/site-packages (from jsonschema<5.0.0,>=4.0.0->azure-ai-ml) (0.19.3)\n",
            "Requirement already satisfied: packaging>=17.0 in /anaconda/envs/azureml_py310_sdkv2/lib/python3.10/site-packages (from marshmallow<4.0.0,>=3.5->azure-ai-ml) (23.0)\n",
            "Requirement already satisfied: portalocker<3,>=1.0 in /anaconda/envs/azureml_py310_sdkv2/lib/python3.10/site-packages (from msal-extensions<2.0.0,>=0.3.0->azure-identity) (2.7.0)\n",
            "Requirement already satisfied: certifi>=2017.4.17 in /anaconda/envs/azureml_py310_sdkv2/lib/python3.10/site-packages (from msrest>=0.6.18->azure-ai-ml) (2023.5.7)\n",
            "Requirement already satisfied: requests-oauthlib>=0.5.0 in /anaconda/envs/azureml_py310_sdkv2/lib/python3.10/site-packages (from msrest>=0.6.18->azure-ai-ml) (1.3.1)\n",
            "Requirement already satisfied: opencensus<1.0.0,>=0.11.2 in /anaconda/envs/azureml_py310_sdkv2/lib/python3.10/site-packages (from opencensus-ext-azure<2.0.0->azure-ai-ml) (0.11.2)\n",
            "Requirement already satisfied: psutil>=5.6.3 in /anaconda/envs/azureml_py310_sdkv2/lib/python3.10/site-packages (from opencensus-ext-azure<2.0.0->azure-ai-ml) (5.9.0)\n",
            "Requirement already satisfied: python-dateutil>=2.6.0 in /anaconda/envs/azureml_py310_sdkv2/lib/python3.10/site-packages (from strictyaml<2.0.0->azure-ai-ml) (2.8.2)\n",
            "Requirement already satisfied: pycparser in /anaconda/envs/azureml_py310_sdkv2/lib/python3.10/site-packages (from cffi>=1.12->cryptography>=2.5->azure-identity) (2.21)\n",
            "Requirement already satisfied: opencensus-context>=0.1.3 in /anaconda/envs/azureml_py310_sdkv2/lib/python3.10/site-packages (from opencensus<1.0.0,>=0.11.2->opencensus-ext-azure<2.0.0->azure-ai-ml) (0.1.3)\n",
            "Requirement already satisfied: google-api-core<3.0.0,>=1.0.0 in /anaconda/envs/azureml_py310_sdkv2/lib/python3.10/site-packages (from opencensus<1.0.0,>=0.11.2->opencensus-ext-azure<2.0.0->azure-ai-ml) (2.11.1)\n",
            "Requirement already satisfied: charset-normalizer<4,>=2 in /anaconda/envs/azureml_py310_sdkv2/lib/python3.10/site-packages (from requests>=2.18.4->azure-core<2.0.0,>=1.23.0->azure-ai-ml) (3.1.0)\n",
            "Requirement already satisfied: idna<4,>=2.5 in /anaconda/envs/azureml_py310_sdkv2/lib/python3.10/site-packages (from requests>=2.18.4->azure-core<2.0.0,>=1.23.0->azure-ai-ml) (3.4)\n",
            "Requirement already satisfied: urllib3<3,>=1.21.1 in /anaconda/envs/azureml_py310_sdkv2/lib/python3.10/site-packages (from requests>=2.18.4->azure-core<2.0.0,>=1.23.0->azure-ai-ml) (1.26.16)\n",
            "Requirement already satisfied: oauthlib>=3.0.0 in /anaconda/envs/azureml_py310_sdkv2/lib/python3.10/site-packages (from requests-oauthlib>=0.5.0->msrest>=0.6.18->azure-ai-ml) (3.2.2)\n",
            "Requirement already satisfied: googleapis-common-protos<2.0.dev0,>=1.56.2 in /anaconda/envs/azureml_py310_sdkv2/lib/python3.10/site-packages (from google-api-core<3.0.0,>=1.0.0->opencensus<1.0.0,>=0.11.2->opencensus-ext-azure<2.0.0->azure-ai-ml) (1.59.1)\n",
            "Requirement already satisfied: protobuf!=3.20.0,!=3.20.1,!=4.21.0,!=4.21.1,!=4.21.2,!=4.21.3,!=4.21.4,!=4.21.5,<5.0.0.dev0,>=3.19.5 in /anaconda/envs/azureml_py310_sdkv2/lib/python3.10/site-packages (from google-api-core<3.0.0,>=1.0.0->opencensus<1.0.0,>=0.11.2->opencensus-ext-azure<2.0.0->azure-ai-ml) (3.20.3)\n",
            "Requirement already satisfied: google-auth<3.0.dev0,>=2.14.1 in /anaconda/envs/azureml_py310_sdkv2/lib/python3.10/site-packages (from google-api-core<3.0.0,>=1.0.0->opencensus<1.0.0,>=0.11.2->opencensus-ext-azure<2.0.0->azure-ai-ml) (2.20.0)\n",
            "Requirement already satisfied: cachetools<6.0,>=2.0.0 in /anaconda/envs/azureml_py310_sdkv2/lib/python3.10/site-packages (from google-auth<3.0.dev0,>=2.14.1->google-api-core<3.0.0,>=1.0.0->opencensus<1.0.0,>=0.11.2->opencensus-ext-azure<2.0.0->azure-ai-ml) (5.3.1)\n",
            "Requirement already satisfied: pyasn1-modules>=0.2.1 in /anaconda/envs/azureml_py310_sdkv2/lib/python3.10/site-packages (from google-auth<3.0.dev0,>=2.14.1->google-api-core<3.0.0,>=1.0.0->opencensus<1.0.0,>=0.11.2->opencensus-ext-azure<2.0.0->azure-ai-ml) (0.3.0)\n",
            "Requirement already satisfied: rsa<5,>=3.1.4 in /anaconda/envs/azureml_py310_sdkv2/lib/python3.10/site-packages (from google-auth<3.0.dev0,>=2.14.1->google-api-core<3.0.0,>=1.0.0->opencensus<1.0.0,>=0.11.2->opencensus-ext-azure<2.0.0->azure-ai-ml) (4.9)\n",
            "Requirement already satisfied: pyasn1<0.6.0,>=0.4.6 in /anaconda/envs/azureml_py310_sdkv2/lib/python3.10/site-packages (from pyasn1-modules>=0.2.1->google-auth<3.0.dev0,>=2.14.1->google-api-core<3.0.0,>=1.0.0->opencensus<1.0.0,>=0.11.2->opencensus-ext-azure<2.0.0->azure-ai-ml) (0.5.0)\n",
            "Note: you may need to restart the kernel to use updated packages.\n"
          ]
        }
      ],
      "source": [
        "%pip install azure-ai-ml azure-identity"
      ]
    },
    {
      "cell_type": "code",
      "execution_count": 2,
      "metadata": {
        "gather": {
          "logged": 1697903033806
        },
        "jupyter": {
          "outputs_hidden": false,
          "source_hidden": false
        },
        "nteract": {
          "transient": {
            "deleting": false
          }
        }
      },
      "outputs": [],
      "source": [
        "# deployment\n",
        "# import required libraries\n",
        "from azure.ai.ml import MLClient\n",
        "from azure.ai.ml.entities import (\n",
        "    ManagedOnlineEndpoint,\n",
        "    ManagedOnlineDeployment,\n",
        "    Model,\n",
        "    Environment,\n",
        "    CodeConfiguration,\n",
        ")\n",
        "from azure.identity import DefaultAzureCredential"
      ]
    },
    {
      "cell_type": "code",
      "execution_count": 3,
      "metadata": {
        "gather": {
          "logged": 1697903034896
        },
        "jupyter": {
          "outputs_hidden": false,
          "source_hidden": false
        },
        "nteract": {
          "transient": {
            "deleting": false
          }
        }
      },
      "outputs": [],
      "source": [
        "# enter details of your Azure Machine Learning workspace\n",
        "subscription_id = \"\"\n",
        "resource_group = \"\"\n",
        "workspace = \"\""
      ]
    },
    {
      "cell_type": "code",
      "execution_count": 4,
      "metadata": {
        "gather": {
          "logged": 1697903035979
        },
        "jupyter": {
          "outputs_hidden": false,
          "source_hidden": false
        },
        "nteract": {
          "transient": {
            "deleting": false
          }
        }
      },
      "outputs": [],
      "source": [
        "# get a handle to the workspace\n",
        "ml_client = MLClient(\n",
        "    DefaultAzureCredential(), subscription_id, resource_group, workspace\n",
        ")"
      ]
    },
    {
      "cell_type": "code",
      "execution_count": 5,
      "metadata": {
        "gather": {
          "logged": 1697903036994
        },
        "jupyter": {
          "outputs_hidden": false,
          "source_hidden": false
        },
        "nteract": {
          "transient": {
            "deleting": false
          }
        }
      },
      "outputs": [],
      "source": [
        "import datetime\n",
        "\n",
        "endpoint_name = \"lugtts-endpt-\" + datetime.datetime.now().strftime(\"%m%d%H%M%f\")\n",
        "\n",
        "# create an online endpoint\n",
        "endpoint = ManagedOnlineEndpoint(\n",
        "    name = endpoint_name, \n",
        "    description=\"This is the endpoint for inferencing text to speech in luganda\",\n",
        "    auth_mode=\"key\"\n",
        ")"
      ]
    },
    {
      "cell_type": "code",
      "execution_count": 6,
      "metadata": {
        "gather": {
          "logged": 1697903037688
        },
        "jupyter": {
          "outputs_hidden": false,
          "source_hidden": false
        },
        "nteract": {
          "transient": {
            "deleting": false
          }
        }
      },
      "outputs": [],
      "source": [
        "model = Model(path=\"Conda.yaml\")\n",
        "env = Environment(\n",
        "    conda_file=\"Conda.yaml\",\n",
        "    image=\"mcr.microsoft.com/azureml/openmpi3.1.2-ubuntu18.04\",\n",
        ")\n",
        "\n",
        "# This deployment was tested with the following instance type \"STANDARD_DS3_V2\", make sure you have enough quota in your subscription\n",
        "blue_deployment = ManagedOnlineDeployment(\n",
        "    name=\"blue\",\n",
        "    endpoint_name=endpoint_name,\n",
        "    model=model,\n",
        "    environment=env,\n",
        "    code_configuration=CodeConfiguration(\n",
        "        code=\"Inference\", scoring_script=\"Score.py\"\n",
        "    ),\n",
        "    instance_type=\"STANDARD_DS3_V2\",\n",
        "    instance_count=1,\n",
        ")"
      ]
    },
    {
      "cell_type": "code",
      "execution_count": 7,
      "metadata": {
        "gather": {
          "logged": 1697903039068
        },
        "jupyter": {
          "outputs_hidden": false,
          "source_hidden": false
        },
        "nteract": {
          "transient": {
            "deleting": false
          }
        }
      },
      "outputs": [
        {
          "name": "stderr",
          "output_type": "stream",
          "text": [
            "Creating local endpoint (lugtts-endpt-10211543386167) .Done (0m 5s)\n"
          ]
        },
        {
          "data": {
            "text/plain": [
              "ManagedOnlineEndpoint({'public_network_access': None, 'provisioning_state': None, 'scoring_uri': None, 'openapi_uri': None, 'name': 'lugtts-endpt-10211543386167', 'description': 'This is the endpoint for inferencing text to speech in luganda', 'tags': {}, 'properties': {}, 'print_as_yaml': True, 'id': None, 'Resource__source_path': None, 'base_path': PosixPath('/home/azureuser/.azureml/inferencing/lugtts-endpt-10211543386167'), 'creation_context': None, 'serialize': <msrest.serialization.Serializer object at 0x7f54f35b34c0>, 'auth_mode': 'key', 'location': None, 'identity': None, 'traffic': {}, 'mirror_traffic': {}, 'kind': None})"
            ]
          },
          "execution_count": 7,
          "metadata": {},
          "output_type": "execute_result"
        }
      ],
      "source": [
        "ml_client.online_endpoints.begin_create_or_update(endpoint, local=True)"
      ]
    },
    {
      "cell_type": "code",
      "execution_count": 8,
      "metadata": {
        "gather": {
          "logged": 1697903066051
        },
        "jupyter": {
          "outputs_hidden": false,
          "source_hidden": false
        },
        "nteract": {
          "transient": {
            "deleting": false
          }
        }
      },
      "outputs": [
        {
          "name": "stderr",
          "output_type": "stream",
          "text": [
            "Creating local deployment (lugtts-endpt-10211543386167 / blue) .\n",
            "Building Docker image from Dockerfile\n",
            "Step 1/6 : FROM mcr.microsoft.com/azureml/openmpi3.1.2-ubuntu18.04\n",
            " ---> a79caa0393e2\n",
            "Step 2/6 : RUN mkdir -p /var/azureml-app/\n",
            " ---> Using cache\n",
            " ---> 88d58a5cddf4\n",
            "Step 3/6 : WORKDIR /var/azureml-app/\n",
            " ---> Using cache\n",
            " ---> da749315a1c6\n",
            "Step 4/6 : COPY conda.yml /var/azureml-app/\n",
            " ---> Using cache\n",
            " ---> 8f6f77516a02\n",
            "Step 5/6 : RUN conda env create -n inf-conda-env --file conda.yml\n",
            " ---> Using cache\n",
            " ---> d00eb229ddd9\n",
            "Step 6/6 : CMD [\"conda\", \"run\", \"--no-capture-output\", \"-n\", \"inf-conda-env\", \"runsvdir\", \"/var/runit\"]\n",
            " ---> Using cache\n",
            " ---> 5cf8af62c64b\n",
            "Successfully built 5cf8af62c64b\n",
            "Successfully tagged lugtts-endpt-10211543386167:blue\n",
            "\n",
            "Starting up endpoint...Done (0m 20s)\n"
          ]
        },
        {
          "data": {
            "text/plain": [
              "ManagedOnlineDeployment({'private_network_connection': None, 'provisioning_state': 'Succeeded', 'endpoint_name': 'lugtts-endpt-10211543386167', 'type': 'Managed', 'name': 'blue', 'description': None, 'tags': {}, 'properties': {}, 'print_as_yaml': True, 'id': None, 'Resource__source_path': None, 'base_path': PosixPath('/mnt/batch/tasks/shared/LS_root/mounts/clusters/translationinference/code/Users/2100800280/OasisAiTranslation'), 'creation_context': None, 'serialize': <msrest.serialization.Serializer object at 0x7f54f0c0e050>, 'model': Model({'job_name': None, 'intellectual_property': None, 'is_anonymous': False, 'auto_increment_version': False, 'auto_delete_setting': None, 'name': '2b32fce99043842ba7d7d50372495ea0', 'description': None, 'tags': {}, 'properties': {}, 'print_as_yaml': True, 'id': None, 'Resource__source_path': None, 'base_path': PosixPath('/mnt/batch/tasks/shared/LS_root/mounts/clusters/translationinference/code/Users/2100800280/OasisAiTranslation'), 'creation_context': None, 'serialize': <msrest.serialization.Serializer object at 0x7f54f0c0e770>, 'version': '1', 'latest_version': None, 'path': '/mnt/batch/tasks/shared/LS_root/mounts/clusters/translationinference/code/Users/2100800280/OasisAiTranslation/Conda.yaml', 'datastore': None, 'utc_time_created': None, 'flavors': None, 'arm_type': 'model_version', 'type': 'custom_model', 'stage': None}), 'code_configuration': {'code': 'Inference'}, 'environment': Environment({'intellectual_property': None, 'is_anonymous': False, 'auto_increment_version': False, 'auto_delete_setting': None, 'name': 'CliV2AnonymousEnvironment', 'description': None, 'tags': {}, 'properties': {}, 'print_as_yaml': True, 'id': None, 'Resource__source_path': None, 'base_path': PosixPath('/mnt/batch/tasks/shared/LS_root/mounts/clusters/translationinference/code/Users/2100800280/OasisAiTranslation'), 'creation_context': None, 'serialize': <msrest.serialization.Serializer object at 0x7f54f0c0f970>, 'version': '038d1980f757119e926bd49da6882be4', 'latest_version': None, 'conda_file': {'name': 'mul-eng-mul-model-env', 'channels': ['conda-forge', 'defaults'], 'dependencies': ['python == 3.9', 'pip', {'pip': ['azureml-defaults==1.47.0', 'pyyaml', 'sentencepiece', 'azure-storage-blob', 'torch', 'inference-schema[numpy-support]==1.5', 'transformers', 'scipy == 1.7.1', 'numpy == 1.21.2', 'setuptools']}]}, 'image': 'mcr.microsoft.com/azureml/openmpi3.1.2-ubuntu18.04', 'build': None, 'inference_config': None, 'os_type': None, 'arm_type': 'environment_version', 'conda_file_path': None, 'path': None, 'datastore': None, 'upload_hash': None, 'translated_conda_file': 'channels:\\n- conda-forge\\n- defaults\\ndependencies:\\n- python == 3.9\\n- pip\\n- pip:\\n  - azureml-defaults==1.47.0\\n  - pyyaml\\n  - sentencepiece\\n  - azure-storage-blob\\n  - torch\\n  - inference-schema[numpy-support]==1.5\\n  - transformers\\n  - scipy == 1.7.1\\n  - numpy == 1.21.2\\n  - setuptools\\nname: mul-eng-mul-model-env\\n'}), 'environment_variables': {}, 'app_insights_enabled': False, 'scale_settings': None, 'request_settings': None, 'liveness_probe': None, 'readiness_probe': None, 'instance_count': 1, 'arm_type': 'online_deployment', 'model_mount_path': None, 'instance_type': 'local', 'data_collector': None, 'egress_public_network_access': None})"
            ]
          },
          "execution_count": 8,
          "metadata": {},
          "output_type": "execute_result"
        }
      ],
      "source": [
        "ml_client.online_deployments.begin_create_or_update(\n",
        "    deployment=blue_deployment, local=True\n",
        ")"
      ]
    },
    {
      "cell_type": "code",
      "execution_count": 9,
      "metadata": {
        "gather": {
          "logged": 1697903086224
        },
        "jupyter": {
          "outputs_hidden": false,
          "source_hidden": false
        },
        "nteract": {
          "transient": {
            "deleting": false
          }
        }
      },
      "outputs": [
        {
          "data": {
            "text/plain": [
              "'2023-10-21T15:44:00,739887836+00:00 - rsyslog/run \\r\\n2023-10-21T15:44:00,744611963+00:00 - gunicorn/run \\r\\n2023-10-21T15:44:00,746073395+00:00 | gunicorn/run | \\r\\n2023-10-21T15:44:00,747756847+00:00 | gunicorn/run | ###############################################\\r\\n2023-10-21T15:44:00,749406896+00:00 | gunicorn/run | AzureML Container Runtime Information\\r\\n2023-10-21T15:44:00,750984839+00:00 | gunicorn/run | ###############################################\\r\\n2023-10-21T15:44:00,752652689+00:00 | gunicorn/run | \\r\\n2023-10-21T15:44:00,772795010+00:00 - nginx/run \\r\\n2023-10-21T15:44:01,269159769+00:00 | gunicorn/run | \\r\\n2023-10-21T15:44:01,276658046+00:00 | gunicorn/run | AzureML image information: openmpi3.1.2-ubuntu18.04, Materializaton Build:20230227.v3\\r\\n2023-10-21T15:44:01,278277093+00:00 | gunicorn/run | \\r\\n2023-10-21T15:44:01,279749226+00:00 | gunicorn/run | \\r\\n2023-10-21T15:44:01,281351370+00:00 | gunicorn/run | PATH environment variable: /opt/miniconda/envs/inf-conda-env/bin:/opt/miniconda/condabin:/opt/miniconda/bin:/usr/local/sbin:/usr/local/bin:/usr/sbin:/usr/bin:/sbin:/bin\\r\\n2023-10-21T15:44:01,282953915+00:00 | gunicorn/run | PYTHONPATH environment variable: \\r\\n2023-10-21T15:44:01,284724275+00:00 | gunicorn/run | \\r\\n2023-10-21T15:44:01,760281821+00:00 | gunicorn/run | CONDAPATH environment variable: /opt/miniconda\\r\\n\\r\\n# conda environments:\\r\\n#\\r\\nbase                     /opt/miniconda\\r\\ninf-conda-env         *  /opt/miniconda/envs/inf-conda-env\\r\\n\\r\\n2023-10-21T15:44:03,045457065+00:00 | gunicorn/run | \\r\\n2023-10-21T15:44:03,047598056+00:00 | gunicorn/run | Pip Dependencies (before dynamic installation)\\r\\n\\r\\nadal==1.2.7\\r\\nargcomplete==2.1.2\\r\\nattrs==23.1.0\\r\\nazure-common==1.1.28\\r\\nazure-core==1.29.4\\r\\nazure-graphrbac==0.61.1\\r\\nazure-identity==1.7.0\\r\\nazure-mgmt-authorization==2.0.0\\r\\nazure-mgmt-containerregistry==10.2.0\\r\\nazure-mgmt-core==1.4.0\\r\\nazure-mgmt-keyvault==10.2.3\\r\\nazure-mgmt-resource==21.2.1\\r\\nazure-mgmt-storage==20.1.0\\r\\nazure-storage-blob==12.18.3\\r\\nazureml-core==1.47.0\\r\\nazureml-dataprep==4.5.7\\r\\nazureml-dataprep-native==38.0.0\\r\\nazureml-dataprep-rslex==2.11.4\\r\\nazureml-dataset-runtime==1.47.0\\r\\nazureml-defaults==1.47.0\\r\\nazureml-inference-server-http==0.7.7\\r\\nbackports.tempfile==1.0\\r\\nbackports.weakref==1.0.post1\\r\\nbcrypt==4.0.1\\r\\nblinker==1.6.3\\r\\ncachetools==5.3.1\\r\\ncertifi==2023.7.22\\r\\ncffi==1.16.0\\r\\ncharset-normalizer==3.3.0\\r\\nclick==8.1.7\\r\\ncloudpickle==2.2.1\\r\\nconfigparser==3.7.4\\r\\ncontextlib2==21.6.0\\r\\ncryptography==38.0.4\\r\\ndistro==1.8.0\\r\\ndocker==6.1.3\\r\\ndotnetcore2==3.1.23\\r\\nfilelock==3.12.4\\r\\nFlask==3.0.0\\r\\nFlask-Cors==3.0.10\\r\\nfsspec==2023.9.2\\r\\nfusepy==3.0.1\\r\\ngoogle-api-core==2.12.0\\r\\ngoogle-auth==2.23.3\\r\\ngoogleapis-common-protos==1.61.0\\r\\ngunicorn==20.1.0\\r\\nhuggingface-hub==0.17.3\\r\\nhumanfriendly==10.0\\r\\nidna==3.4\\r\\nimportlib-metadata==6.8.0\\r\\ninference-schema==1.5\\r\\nisodate==0.6.1\\r\\nitsdangerous==2.1.2\\r\\njeepney==0.8.0\\r\\nJinja2==3.1.2\\r\\njmespath==1.0.1\\r\\njson-logging-py==0.2\\r\\njsonpickle==2.2.0\\r\\njsonschema==4.19.1\\r\\njsonschema-specifications==2023.7.1\\r\\nknack==0.10.1\\r\\nMarkupSafe==2.1.3\\r\\nmpmath==1.3.0\\r\\nmsal==1.24.1\\r\\nmsal-extensions==0.3.1\\r\\nmsrest==0.7.1\\r\\nmsrestazure==0.6.4\\r\\nndg-httpsclient==0.5.1\\r\\nnetworkx==3.1\\r\\nnumpy==1.21.2\\r\\nnvidia-cublas-cu12==12.1.3.1\\r\\nnvidia-cuda-cupti-cu12==12.1.105\\r\\nnvidia-cuda-nvrtc-cu12==12.1.105\\r\\nnvidia-cuda-runtime-cu12==12.1.105\\r\\nnvidia-cudnn-cu12==8.9.2.26\\r\\nnvidia-cufft-cu12==11.0.2.54\\r\\nnvidia-curand-cu12==10.3.2.106\\r\\nnvidia-cusolver-cu12==11.4.5.107\\r\\nnvidia-cusparse-cu12==12.1.0.106\\r\\nnvidia-nccl-cu12==2.18.1\\r\\nnvidia-nvjitlink-cu12==12.2.140\\r\\nnvidia-nvtx-cu12==12.1.105\\r\\noauthlib==3.2.2\\r\\nopencensus==0.11.3\\r\\nopencensus-context==0.1.3\\r\\nopencensus-ext-azure==1.1.11\\r\\npackaging==21.3\\r\\nparamiko==2.12.0\\r\\npathspec==0.11.2\\r\\npkginfo==1.9.6\\r\\nportalocker==2.8.2\\r\\nprotobuf==4.24.4\\r\\npsutil==5.9.6\\r\\npyarrow==9.0.0\\r\\npyasn1==0.5.0\\r\\npyasn1-modules==0.3.0\\r\\npycparser==2.21\\r\\nPygments==2.16.1\\r\\nPyJWT==2.8.0\\r\\nPyNaCl==1.5.0\\r\\npyOpenSSL==22.1.0\\r\\npyparsing==3.1.1\\r\\nPySocks==1.7.1\\r\\npython-dateutil==2.8.2\\r\\npytz==2023.3.post1\\r\\nPyYAML==6.0.1\\r\\nreferencing==0.30.2\\r\\nregex==2023.10.3\\r\\nrequests==2.31.0\\r\\nrequests-oauthlib==1.3.1\\r\\nrpds-py==0.10.6\\r\\nrsa==4.9\\r\\nsafetensors==0.4.0\\r\\nscipy==1.7.1\\r\\nSecretStorage==3.3.3\\r\\nsentencepiece==0.1.99\\r\\nsix==1.16.0\\r\\nsympy==1.12\\r\\ntabulate==0.9.0\\r\\ntokenizers==0.14.1\\r\\ntorch==2.1.0\\r\\ntqdm==4.66.1\\r\\ntransformers==4.34.0\\r\\ntriton==2.1.0\\r\\ntyping_extensions==4.8.0\\r\\nurllib3==1.26.17\\r\\nwebsocket-client==1.6.4\\r\\nWerkzeug==3.0.0\\r\\nwrapt==1.12.1\\r\\nzipp==3.17.0\\r\\n\\r\\n2023-10-21T15:44:05,653563521+00:00 | gunicorn/run | \\r\\n2023-10-21T15:44:05,655567100+00:00 | gunicorn/run | ###############################################\\r\\n2023-10-21T15:44:05,657245749+00:00 | gunicorn/run | Checking if the Python package azureml-inference-server-http is installed\\r\\n2023-10-21T15:44:05,659144719+00:00 | gunicorn/run | ###############################################\\r\\n2023-10-21T15:44:05,660565445+00:00 | gunicorn/run | \\r\\n2023-10-21T15:44:07,089144782+00:00 | gunicorn/run | \\r\\n2023-10-21T15:44:07,091110657+00:00 | gunicorn/run | ###############################################\\r\\n2023-10-21T15:44:07,092752304+00:00 | gunicorn/run | AzureML Inference Server\\r\\n2023-10-21T15:44:07,094269339+00:00 | gunicorn/run | ###############################################\\r\\n2023-10-21T15:44:07,095874982+00:00 | gunicorn/run | \\r\\n2023-10-21T15:44:08,572908141+00:00 | gunicorn/run | Starting AzureML Inference Server HTTP.\\r\\n\\r\\nAzure ML Inferencing HTTP server v0.7.7\\r\\n\\r\\n\\r\\nServer Settings\\r\\n---------------\\r\\nEntry Script Name: /var/azureml-app/Inference/Score.py\\r\\nModel Directory: /var/azureml-app/azureml-models//2b32fce99043842ba7d7d50372495ea0/1\\r\\nWorker Count: 1\\r\\nWorker Timeout (seconds): 300\\r\\nServer Port: 31311\\r\\nApplication Insights Enabled: false\\r\\nApplication Insights Key: None\\r\\nInferencing HTTP server version: azmlinfsrv/0.7.7\\r\\nCORS for the specified origins: None\\r\\n\\r\\n\\r\\nServer Routes\\r\\n---------------\\r\\nLiveness Probe: GET   127.0.0.1:31311/\\r\\nScore:          POST  127.0.0.1:31311/score\\r\\n\\r\\nStarting gunicorn 20.1.0\\r\\nListening at: http://0.0.0.0:31311 (27)\\r\\nUsing worker: sync\\r\\nBooting worker with pid: 88\\r\\nInitializing logger\\r\\nStarting up app insights client\\r\\n2023-10-21 15:44:10,449 | root | INFO | Starting up app insights client\\r\\nlogging socket was found. logging is available.\\r\\nlogging socket was found. logging is available.\\r\\nStarting up app insight hooks\\r\\n2023-10-21 15:44:10,453 | root | INFO | Starting up app insight hooks\\r\\n'"
            ]
          },
          "execution_count": 9,
          "metadata": {},
          "output_type": "execute_result"
        }
      ],
      "source": [
        "ml_client.online_deployments.get_logs(\n",
        "    name=\"blue\", endpoint_name=endpoint_name, local=True, lines=500\n",
        ")"
      ]
    },
    {
      "cell_type": "code",
      "execution_count": 10,
      "metadata": {
        "gather": {
          "logged": 1697903108039
        },
        "jupyter": {
          "outputs_hidden": false,
          "source_hidden": false
        },
        "nteract": {
          "transient": {
            "deleting": false
          }
        }
      },
      "outputs": [
        {
          "data": {
            "text/plain": [
              "ManagedOnlineEndpoint({'public_network_access': None, 'provisioning_state': 'Succeeded', 'scoring_uri': 'http://localhost:32770/score', 'openapi_uri': None, 'name': 'lugtts-endpt-10211543386167', 'description': 'This is the endpoint for inferencing text to speech in luganda', 'tags': {}, 'properties': {}, 'print_as_yaml': True, 'id': None, 'Resource__source_path': None, 'base_path': PosixPath('/mnt/batch/tasks/shared/LS_root/mounts/clusters/translationinference/code/Users/2100800280/OasisAiTranslation'), 'creation_context': None, 'serialize': <msrest.serialization.Serializer object at 0x7f54f35b3130>, 'auth_mode': 'key', 'location': 'local', 'identity': None, 'traffic': {}, 'mirror_traffic': {}, 'kind': None})"
            ]
          },
          "execution_count": 10,
          "metadata": {},
          "output_type": "execute_result"
        }
      ],
      "source": [
        "ml_client.online_endpoints.get(name=endpoint_name, local=True)"
      ]
    },
    {
      "cell_type": "code",
      "execution_count": 11,
      "metadata": {
        "gather": {
          "logged": 1697903115443
        },
        "jupyter": {
          "outputs_hidden": false,
          "source_hidden": false
        },
        "nteract": {
          "transient": {
            "deleting": false
          }
        }
      },
      "outputs": [
        {
          "data": {
            "text/plain": [
              "'2023-10-21T15:44:00,739887836+00:00 - rsyslog/run \\r\\n2023-10-21T15:44:00,744611963+00:00 - gunicorn/run \\r\\n2023-10-21T15:44:00,746073395+00:00 | gunicorn/run | \\r\\n2023-10-21T15:44:00,747756847+00:00 | gunicorn/run | ###############################################\\r\\n2023-10-21T15:44:00,749406896+00:00 | gunicorn/run | AzureML Container Runtime Information\\r\\n2023-10-21T15:44:00,750984839+00:00 | gunicorn/run | ###############################################\\r\\n2023-10-21T15:44:00,752652689+00:00 | gunicorn/run | \\r\\n2023-10-21T15:44:00,772795010+00:00 - nginx/run \\r\\n2023-10-21T15:44:01,269159769+00:00 | gunicorn/run | \\r\\n2023-10-21T15:44:01,276658046+00:00 | gunicorn/run | AzureML image information: openmpi3.1.2-ubuntu18.04, Materializaton Build:20230227.v3\\r\\n2023-10-21T15:44:01,278277093+00:00 | gunicorn/run | \\r\\n2023-10-21T15:44:01,279749226+00:00 | gunicorn/run | \\r\\n2023-10-21T15:44:01,281351370+00:00 | gunicorn/run | PATH environment variable: /opt/miniconda/envs/inf-conda-env/bin:/opt/miniconda/condabin:/opt/miniconda/bin:/usr/local/sbin:/usr/local/bin:/usr/sbin:/usr/bin:/sbin:/bin\\r\\n2023-10-21T15:44:01,282953915+00:00 | gunicorn/run | PYTHONPATH environment variable: \\r\\n2023-10-21T15:44:01,284724275+00:00 | gunicorn/run | \\r\\n2023-10-21T15:44:01,760281821+00:00 | gunicorn/run | CONDAPATH environment variable: /opt/miniconda\\r\\n\\r\\n# conda environments:\\r\\n#\\r\\nbase                     /opt/miniconda\\r\\ninf-conda-env         *  /opt/miniconda/envs/inf-conda-env\\r\\n\\r\\n2023-10-21T15:44:03,045457065+00:00 | gunicorn/run | \\r\\n2023-10-21T15:44:03,047598056+00:00 | gunicorn/run | Pip Dependencies (before dynamic installation)\\r\\n\\r\\nadal==1.2.7\\r\\nargcomplete==2.1.2\\r\\nattrs==23.1.0\\r\\nazure-common==1.1.28\\r\\nazure-core==1.29.4\\r\\nazure-graphrbac==0.61.1\\r\\nazure-identity==1.7.0\\r\\nazure-mgmt-authorization==2.0.0\\r\\nazure-mgmt-containerregistry==10.2.0\\r\\nazure-mgmt-core==1.4.0\\r\\nazure-mgmt-keyvault==10.2.3\\r\\nazure-mgmt-resource==21.2.1\\r\\nazure-mgmt-storage==20.1.0\\r\\nazure-storage-blob==12.18.3\\r\\nazureml-core==1.47.0\\r\\nazureml-dataprep==4.5.7\\r\\nazureml-dataprep-native==38.0.0\\r\\nazureml-dataprep-rslex==2.11.4\\r\\nazureml-dataset-runtime==1.47.0\\r\\nazureml-defaults==1.47.0\\r\\nazureml-inference-server-http==0.7.7\\r\\nbackports.tempfile==1.0\\r\\nbackports.weakref==1.0.post1\\r\\nbcrypt==4.0.1\\r\\nblinker==1.6.3\\r\\ncachetools==5.3.1\\r\\ncertifi==2023.7.22\\r\\ncffi==1.16.0\\r\\ncharset-normalizer==3.3.0\\r\\nclick==8.1.7\\r\\ncloudpickle==2.2.1\\r\\nconfigparser==3.7.4\\r\\ncontextlib2==21.6.0\\r\\ncryptography==38.0.4\\r\\ndistro==1.8.0\\r\\ndocker==6.1.3\\r\\ndotnetcore2==3.1.23\\r\\nfilelock==3.12.4\\r\\nFlask==3.0.0\\r\\nFlask-Cors==3.0.10\\r\\nfsspec==2023.9.2\\r\\nfusepy==3.0.1\\r\\ngoogle-api-core==2.12.0\\r\\ngoogle-auth==2.23.3\\r\\ngoogleapis-common-protos==1.61.0\\r\\ngunicorn==20.1.0\\r\\nhuggingface-hub==0.17.3\\r\\nhumanfriendly==10.0\\r\\nidna==3.4\\r\\nimportlib-metadata==6.8.0\\r\\ninference-schema==1.5\\r\\nisodate==0.6.1\\r\\nitsdangerous==2.1.2\\r\\njeepney==0.8.0\\r\\nJinja2==3.1.2\\r\\njmespath==1.0.1\\r\\njson-logging-py==0.2\\r\\njsonpickle==2.2.0\\r\\njsonschema==4.19.1\\r\\njsonschema-specifications==2023.7.1\\r\\nknack==0.10.1\\r\\nMarkupSafe==2.1.3\\r\\nmpmath==1.3.0\\r\\nmsal==1.24.1\\r\\nmsal-extensions==0.3.1\\r\\nmsrest==0.7.1\\r\\nmsrestazure==0.6.4\\r\\nndg-httpsclient==0.5.1\\r\\nnetworkx==3.1\\r\\nnumpy==1.21.2\\r\\nnvidia-cublas-cu12==12.1.3.1\\r\\nnvidia-cuda-cupti-cu12==12.1.105\\r\\nnvidia-cuda-nvrtc-cu12==12.1.105\\r\\nnvidia-cuda-runtime-cu12==12.1.105\\r\\nnvidia-cudnn-cu12==8.9.2.26\\r\\nnvidia-cufft-cu12==11.0.2.54\\r\\nnvidia-curand-cu12==10.3.2.106\\r\\nnvidia-cusolver-cu12==11.4.5.107\\r\\nnvidia-cusparse-cu12==12.1.0.106\\r\\nnvidia-nccl-cu12==2.18.1\\r\\nnvidia-nvjitlink-cu12==12.2.140\\r\\nnvidia-nvtx-cu12==12.1.105\\r\\noauthlib==3.2.2\\r\\nopencensus==0.11.3\\r\\nopencensus-context==0.1.3\\r\\nopencensus-ext-azure==1.1.11\\r\\npackaging==21.3\\r\\nparamiko==2.12.0\\r\\npathspec==0.11.2\\r\\npkginfo==1.9.6\\r\\nportalocker==2.8.2\\r\\nprotobuf==4.24.4\\r\\npsutil==5.9.6\\r\\npyarrow==9.0.0\\r\\npyasn1==0.5.0\\r\\npyasn1-modules==0.3.0\\r\\npycparser==2.21\\r\\nPygments==2.16.1\\r\\nPyJWT==2.8.0\\r\\nPyNaCl==1.5.0\\r\\npyOpenSSL==22.1.0\\r\\npyparsing==3.1.1\\r\\nPySocks==1.7.1\\r\\npython-dateutil==2.8.2\\r\\npytz==2023.3.post1\\r\\nPyYAML==6.0.1\\r\\nreferencing==0.30.2\\r\\nregex==2023.10.3\\r\\nrequests==2.31.0\\r\\nrequests-oauthlib==1.3.1\\r\\nrpds-py==0.10.6\\r\\nrsa==4.9\\r\\nsafetensors==0.4.0\\r\\nscipy==1.7.1\\r\\nSecretStorage==3.3.3\\r\\nsentencepiece==0.1.99\\r\\nsix==1.16.0\\r\\nsympy==1.12\\r\\ntabulate==0.9.0\\r\\ntokenizers==0.14.1\\r\\ntorch==2.1.0\\r\\ntqdm==4.66.1\\r\\ntransformers==4.34.0\\r\\ntriton==2.1.0\\r\\ntyping_extensions==4.8.0\\r\\nurllib3==1.26.17\\r\\nwebsocket-client==1.6.4\\r\\nWerkzeug==3.0.0\\r\\nwrapt==1.12.1\\r\\nzipp==3.17.0\\r\\n\\r\\n2023-10-21T15:44:05,653563521+00:00 | gunicorn/run | \\r\\n2023-10-21T15:44:05,655567100+00:00 | gunicorn/run | ###############################################\\r\\n2023-10-21T15:44:05,657245749+00:00 | gunicorn/run | Checking if the Python package azureml-inference-server-http is installed\\r\\n2023-10-21T15:44:05,659144719+00:00 | gunicorn/run | ###############################################\\r\\n2023-10-21T15:44:05,660565445+00:00 | gunicorn/run | \\r\\n2023-10-21T15:44:07,089144782+00:00 | gunicorn/run | \\r\\n2023-10-21T15:44:07,091110657+00:00 | gunicorn/run | ###############################################\\r\\n2023-10-21T15:44:07,092752304+00:00 | gunicorn/run | AzureML Inference Server\\r\\n2023-10-21T15:44:07,094269339+00:00 | gunicorn/run | ###############################################\\r\\n2023-10-21T15:44:07,095874982+00:00 | gunicorn/run | \\r\\n2023-10-21T15:44:08,572908141+00:00 | gunicorn/run | Starting AzureML Inference Server HTTP.\\r\\n\\r\\nAzure ML Inferencing HTTP server v0.7.7\\r\\n\\r\\n\\r\\nServer Settings\\r\\n---------------\\r\\nEntry Script Name: /var/azureml-app/Inference/Score.py\\r\\nModel Directory: /var/azureml-app/azureml-models//2b32fce99043842ba7d7d50372495ea0/1\\r\\nWorker Count: 1\\r\\nWorker Timeout (seconds): 300\\r\\nServer Port: 31311\\r\\nApplication Insights Enabled: false\\r\\nApplication Insights Key: None\\r\\nInferencing HTTP server version: azmlinfsrv/0.7.7\\r\\nCORS for the specified origins: None\\r\\n\\r\\n\\r\\nServer Routes\\r\\n---------------\\r\\nLiveness Probe: GET   127.0.0.1:31311/\\r\\nScore:          POST  127.0.0.1:31311/score\\r\\n\\r\\nStarting gunicorn 20.1.0\\r\\nListening at: http://0.0.0.0:31311 (27)\\r\\nUsing worker: sync\\r\\nBooting worker with pid: 88\\r\\nInitializing logger\\r\\nStarting up app insights client\\r\\n2023-10-21 15:44:10,449 | root | INFO | Starting up app insights client\\r\\nlogging socket was found. logging is available.\\r\\nlogging socket was found. logging is available.\\r\\nStarting up app insight hooks\\r\\n2023-10-21 15:44:10,453 | root | INFO | Starting up app insight hooks\\r\\n'"
            ]
          },
          "execution_count": 11,
          "metadata": {},
          "output_type": "execute_result"
        }
      ],
      "source": [
        "ml_client.online_deployments.get_logs(\n",
        "    name=\"blue\", endpoint_name=endpoint_name, local=True, lines=500\n",
        ")"
      ]
    },
    {
      "cell_type": "code",
      "execution_count": 12,
      "metadata": {
        "gather": {
          "logged": 1697903165332
        },
        "jupyter": {
          "outputs_hidden": false,
          "source_hidden": false
        },
        "nteract": {
          "transient": {
            "deleting": false
          }
        }
      },
      "outputs": [
        {
          "data": {
            "text/plain": [
              "'\"Museven ruled this country.\"'"
            ]
          },
          "execution_count": 12,
          "metadata": {},
          "output_type": "execute_result"
        }
      ],
      "source": [
        "ml_client.online_endpoints.invoke(\n",
        "    endpoint_name=endpoint_name,\n",
        "    request_file=\"sample-request.json\",\n",
        "    local=True,\n",
        ")"
      ]
    },
    {
      "cell_type": "code",
      "execution_count": 13,
      "metadata": {
        "gather": {
          "logged": 1697903166276
        },
        "jupyter": {
          "outputs_hidden": false,
          "source_hidden": false
        },
        "nteract": {
          "transient": {
            "deleting": false
          }
        }
      },
      "outputs": [
        {
          "data": {
            "text/plain": [
              "ManagedOnlineEndpoint({'public_network_access': None, 'provisioning_state': 'Succeeded', 'scoring_uri': 'http://localhost:32770/score', 'openapi_uri': None, 'name': 'lugtts-endpt-10211543386167', 'description': 'This is the endpoint for inferencing text to speech in luganda', 'tags': {}, 'properties': {}, 'print_as_yaml': True, 'id': None, 'Resource__source_path': None, 'base_path': PosixPath('/mnt/batch/tasks/shared/LS_root/mounts/clusters/translationinference/code/Users/2100800280/OasisAiTranslation'), 'creation_context': None, 'serialize': <msrest.serialization.Serializer object at 0x7f54f0c5bac0>, 'auth_mode': 'key', 'location': 'local', 'identity': None, 'traffic': {}, 'mirror_traffic': {}, 'kind': None})"
            ]
          },
          "execution_count": 13,
          "metadata": {},
          "output_type": "execute_result"
        }
      ],
      "source": [
        "endpoint = ml_client.online_endpoints.get(endpoint_name, local=True)\n",
        "endpoint"
      ]
    },
    {
      "cell_type": "code",
      "execution_count": 14,
      "metadata": {
        "gather": {
          "logged": 1697903170524
        },
        "jupyter": {
          "outputs_hidden": false,
          "source_hidden": false
        },
        "nteract": {
          "transient": {
            "deleting": false
          }
        }
      },
      "outputs": [
        {
          "data": {
            "text/plain": [
              "<azure.core.polling._poller.LROPoller at 0x7f54f0c5bd60>"
            ]
          },
          "execution_count": 14,
          "metadata": {},
          "output_type": "execute_result"
        }
      ],
      "source": [
        "# Deploying online endpoint\n",
        "ml_client.online_endpoints.begin_create_or_update(endpoint)"
      ]
    },
    {
      "cell_type": "code",
      "execution_count": 17,
      "metadata": {
        "gather": {
          "logged": 1697903226198
        },
        "jupyter": {
          "outputs_hidden": false,
          "source_hidden": false
        },
        "nteract": {
          "transient": {
            "deleting": false
          }
        }
      },
      "outputs": [
        {
          "name": "stderr",
          "output_type": "stream",
          "text": [
            "Check: endpoint lugtts-endpt-10211543386167 exists\n"
          ]
        },
        {
          "data": {
            "text/plain": [
              "<azure.core.polling._poller.LROPoller at 0x7f54f0c90670>"
            ]
          },
          "execution_count": 17,
          "metadata": {},
          "output_type": "execute_result"
        },
        {
          "name": "stdout",
          "output_type": "stream",
          "text": [
            "..."
          ]
        }
      ],
      "source": [
        "ml_client.online_deployments.begin_create_or_update(blue_deployment)"
      ]
    },
    {
      "cell_type": "code",
      "execution_count": null,
      "metadata": {
        "gather": {
          "logged": 1697903414086
        },
        "jupyter": {
          "outputs_hidden": false,
          "source_hidden": false
        },
        "nteract": {
          "transient": {
            "deleting": false
          }
        }
      },
      "outputs": [
        {
          "name": "stdout",
          "output_type": "stream",
          "text": [
            "."
          ]
        },
        {
          "ename": "HttpResponseError",
          "evalue": "(BadRequest) The request is invalid.\nCode: BadRequest\nMessage: The request is invalid.\nException Details:\t(InferencingClientCallFailed) {{\"errors\":{{\"DeploymentWeights\":[\"Deployments given positive traffic values should be either in a successful or failed state. Unmatched deployments: [blue]\"]}},\"title\":\"One or more validation errors occurred.\"}}\n\tCode: InferencingClientCallFailed\n\tMessage: {{\"errors\":{{\"DeploymentWeights\":[\"Deployments given positive traffic values should be either in a successful or failed state. Unmatched deployments: [blue]\"]}},\"title\":\"One or more validation errors occurred.\"}}\nAdditional Information:Type: ComponentName\nInfo: {\n    \"value\": \"managementfrontend\"\n}Type: Correlation\nInfo: {\n    \"value\": {\n        \"operation\": \"262ac792d6a1a2e507c6ff1c559bede5\",\n        \"request\": \"2ca0dff51c697669\"\n    }\n}Type: Environment\nInfo: {\n    \"value\": \"eastus2\"\n}Type: Location\nInfo: {\n    \"value\": \"eastus2\"\n}Type: Time\nInfo: {\n    \"value\": \"2023-10-21T15:50:13.155054+00:00\"\n}",
          "output_type": "error",
          "traceback": [
            "\u001b[0;31m---------------------------------------------------------------------------\u001b[0m",
            "\u001b[0;31mHttpResponseError\u001b[0m                         Traceback (most recent call last)",
            "Cell \u001b[0;32mIn[21], line 3\u001b[0m\n\u001b[1;32m      1\u001b[0m \u001b[38;5;66;03m# blue deployment takes 100 traffic\u001b[39;00m\n\u001b[1;32m      2\u001b[0m endpoint\u001b[38;5;241m.\u001b[39mtraffic \u001b[38;5;241m=\u001b[39m {\u001b[38;5;124m\"\u001b[39m\u001b[38;5;124mblue\u001b[39m\u001b[38;5;124m\"\u001b[39m: \u001b[38;5;241m100\u001b[39m}\n\u001b[0;32m----> 3\u001b[0m \u001b[43mml_client\u001b[49m\u001b[38;5;241;43m.\u001b[39;49m\u001b[43monline_endpoints\u001b[49m\u001b[38;5;241;43m.\u001b[39;49m\u001b[43mbegin_create_or_update\u001b[49m\u001b[43m(\u001b[49m\u001b[43mendpoint\u001b[49m\u001b[43m)\u001b[49m\n",
            "File \u001b[0;32m/anaconda/envs/azureml_py310_sdkv2/lib/python3.10/site-packages/azure/core/tracing/decorator.py:76\u001b[0m, in \u001b[0;36mdistributed_trace.<locals>.decorator.<locals>.wrapper_use_tracer\u001b[0;34m(*args, **kwargs)\u001b[0m\n\u001b[1;32m     74\u001b[0m span_impl_type \u001b[38;5;241m=\u001b[39m settings\u001b[38;5;241m.\u001b[39mtracing_implementation()\n\u001b[1;32m     75\u001b[0m \u001b[38;5;28;01mif\u001b[39;00m span_impl_type \u001b[38;5;129;01mis\u001b[39;00m \u001b[38;5;28;01mNone\u001b[39;00m:\n\u001b[0;32m---> 76\u001b[0m     \u001b[38;5;28;01mreturn\u001b[39;00m \u001b[43mfunc\u001b[49m\u001b[43m(\u001b[49m\u001b[38;5;241;43m*\u001b[39;49m\u001b[43margs\u001b[49m\u001b[43m,\u001b[49m\u001b[43m \u001b[49m\u001b[38;5;241;43m*\u001b[39;49m\u001b[38;5;241;43m*\u001b[39;49m\u001b[43mkwargs\u001b[49m\u001b[43m)\u001b[49m\n\u001b[1;32m     78\u001b[0m \u001b[38;5;66;03m# Merge span is parameter is set, but only if no explicit parent are passed\u001b[39;00m\n\u001b[1;32m     79\u001b[0m \u001b[38;5;28;01mif\u001b[39;00m merge_span \u001b[38;5;129;01mand\u001b[39;00m \u001b[38;5;129;01mnot\u001b[39;00m passed_in_parent:\n",
            "File \u001b[0;32m/anaconda/envs/azureml_py310_sdkv2/lib/python3.10/site-packages/azure/ai/ml/_telemetry/activity.py:263\u001b[0m, in \u001b[0;36mmonitor_with_activity.<locals>.monitor.<locals>.wrapper\u001b[0;34m(*args, **kwargs)\u001b[0m\n\u001b[1;32m    260\u001b[0m \u001b[38;5;129m@functools\u001b[39m\u001b[38;5;241m.\u001b[39mwraps(f)\n\u001b[1;32m    261\u001b[0m \u001b[38;5;28;01mdef\u001b[39;00m \u001b[38;5;21mwrapper\u001b[39m(\u001b[38;5;241m*\u001b[39margs, \u001b[38;5;241m*\u001b[39m\u001b[38;5;241m*\u001b[39mkwargs):\n\u001b[1;32m    262\u001b[0m     \u001b[38;5;28;01mwith\u001b[39;00m log_activity(logger, activity_name \u001b[38;5;129;01mor\u001b[39;00m f\u001b[38;5;241m.\u001b[39m\u001b[38;5;18m__name__\u001b[39m, activity_type, custom_dimensions):\n\u001b[0;32m--> 263\u001b[0m         \u001b[38;5;28;01mreturn\u001b[39;00m \u001b[43mf\u001b[49m\u001b[43m(\u001b[49m\u001b[38;5;241;43m*\u001b[39;49m\u001b[43margs\u001b[49m\u001b[43m,\u001b[49m\u001b[43m \u001b[49m\u001b[38;5;241;43m*\u001b[39;49m\u001b[38;5;241;43m*\u001b[39;49m\u001b[43mkwargs\u001b[49m\u001b[43m)\u001b[49m\n",
            "File \u001b[0;32m/anaconda/envs/azureml_py310_sdkv2/lib/python3.10/site-packages/azure/ai/ml/operations/_online_endpoint_operations.py:256\u001b[0m, in \u001b[0;36mOnlineEndpointOperations.begin_create_or_update\u001b[0;34m(self, endpoint, local)\u001b[0m\n\u001b[1;32m    254\u001b[0m     log_and_raise_error(ex)\n\u001b[1;32m    255\u001b[0m \u001b[38;5;28;01melse\u001b[39;00m:\n\u001b[0;32m--> 256\u001b[0m     \u001b[38;5;28;01mraise\u001b[39;00m ex\n",
            "File \u001b[0;32m/anaconda/envs/azureml_py310_sdkv2/lib/python3.10/site-packages/azure/ai/ml/operations/_online_endpoint_operations.py:251\u001b[0m, in \u001b[0;36mOnlineEndpointOperations.begin_create_or_update\u001b[0;34m(self, endpoint, local)\u001b[0m\n\u001b[1;32m    248\u001b[0m         \u001b[38;5;28;01mreturn\u001b[39;00m poller\n\u001b[1;32m    250\u001b[0m     \u001b[38;5;28;01mexcept\u001b[39;00m \u001b[38;5;167;01mException\u001b[39;00m \u001b[38;5;28;01mas\u001b[39;00m ex:\n\u001b[0;32m--> 251\u001b[0m         \u001b[38;5;28;01mraise\u001b[39;00m ex\n\u001b[1;32m    252\u001b[0m \u001b[38;5;28;01mexcept\u001b[39;00m \u001b[38;5;167;01mException\u001b[39;00m \u001b[38;5;28;01mas\u001b[39;00m ex:  \u001b[38;5;66;03m# pylint: disable=broad-except\u001b[39;00m\n\u001b[1;32m    253\u001b[0m     \u001b[38;5;28;01mif\u001b[39;00m \u001b[38;5;28misinstance\u001b[39m(ex, (ValidationException, SchemaValidationError)):\n",
            "File \u001b[0;32m/anaconda/envs/azureml_py310_sdkv2/lib/python3.10/site-packages/azure/ai/ml/operations/_online_endpoint_operations.py:240\u001b[0m, in \u001b[0;36mOnlineEndpointOperations.begin_create_or_update\u001b[0;34m(self, endpoint, local)\u001b[0m\n\u001b[1;32m    235\u001b[0m     \u001b[38;5;28;01mif\u001b[39;00m \u001b[38;5;28mhasattr\u001b[39m(endpoint_resource\u001b[38;5;241m.\u001b[39mproperties, \u001b[38;5;124m\"\u001b[39m\u001b[38;5;124mcompute\u001b[39m\u001b[38;5;124m\"\u001b[39m):\n\u001b[1;32m    236\u001b[0m         endpoint_resource\u001b[38;5;241m.\u001b[39mproperties\u001b[38;5;241m.\u001b[39mcompute \u001b[38;5;241m=\u001b[39m orchestrators\u001b[38;5;241m.\u001b[39mget_asset_arm_id(\n\u001b[1;32m    237\u001b[0m             endpoint_resource\u001b[38;5;241m.\u001b[39mproperties\u001b[38;5;241m.\u001b[39mcompute,\n\u001b[1;32m    238\u001b[0m             azureml_type\u001b[38;5;241m=\u001b[39mAzureMLResourceType\u001b[38;5;241m.\u001b[39mCOMPUTE,\n\u001b[1;32m    239\u001b[0m         )\n\u001b[0;32m--> 240\u001b[0m     poller \u001b[38;5;241m=\u001b[39m \u001b[38;5;28;43mself\u001b[39;49m\u001b[38;5;241;43m.\u001b[39;49m\u001b[43m_online_operation\u001b[49m\u001b[38;5;241;43m.\u001b[39;49m\u001b[43mbegin_create_or_update\u001b[49m\u001b[43m(\u001b[49m\n\u001b[1;32m    241\u001b[0m \u001b[43m        \u001b[49m\u001b[43mresource_group_name\u001b[49m\u001b[38;5;241;43m=\u001b[39;49m\u001b[38;5;28;43mself\u001b[39;49m\u001b[38;5;241;43m.\u001b[39;49m\u001b[43m_resource_group_name\u001b[49m\u001b[43m,\u001b[49m\n\u001b[1;32m    242\u001b[0m \u001b[43m        \u001b[49m\u001b[43mworkspace_name\u001b[49m\u001b[38;5;241;43m=\u001b[39;49m\u001b[38;5;28;43mself\u001b[39;49m\u001b[38;5;241;43m.\u001b[39;49m\u001b[43m_workspace_name\u001b[49m\u001b[43m,\u001b[49m\n\u001b[1;32m    243\u001b[0m \u001b[43m        \u001b[49m\u001b[43mendpoint_name\u001b[49m\u001b[38;5;241;43m=\u001b[39;49m\u001b[43mendpoint\u001b[49m\u001b[38;5;241;43m.\u001b[39;49m\u001b[43mname\u001b[49m\u001b[43m,\u001b[49m\n\u001b[1;32m    244\u001b[0m \u001b[43m        \u001b[49m\u001b[43mbody\u001b[49m\u001b[38;5;241;43m=\u001b[39;49m\u001b[43mendpoint_resource\u001b[49m\u001b[43m,\u001b[49m\n\u001b[1;32m    245\u001b[0m \u001b[43m        \u001b[49m\u001b[38;5;28;43mcls\u001b[39;49m\u001b[38;5;241;43m=\u001b[39;49m\u001b[38;5;28;43;01mlambda\u001b[39;49;00m\u001b[43m \u001b[49m\u001b[43mresponse\u001b[49m\u001b[43m,\u001b[49m\u001b[43m \u001b[49m\u001b[43mdeserialized\u001b[49m\u001b[43m,\u001b[49m\u001b[43m \u001b[49m\u001b[43mheaders\u001b[49m\u001b[43m:\u001b[49m\u001b[43m \u001b[49m\u001b[43mOnlineEndpoint\u001b[49m\u001b[38;5;241;43m.\u001b[39;49m\u001b[43m_from_rest_object\u001b[49m\u001b[43m(\u001b[49m\u001b[43mdeserialized\u001b[49m\u001b[43m)\u001b[49m\u001b[43m,\u001b[49m\n\u001b[1;32m    246\u001b[0m \u001b[43m        \u001b[49m\u001b[38;5;241;43m*\u001b[39;49m\u001b[38;5;241;43m*\u001b[39;49m\u001b[38;5;28;43mself\u001b[39;49m\u001b[38;5;241;43m.\u001b[39;49m\u001b[43m_init_kwargs\u001b[49m\u001b[43m,\u001b[49m\n\u001b[1;32m    247\u001b[0m \u001b[43m    \u001b[49m\u001b[43m)\u001b[49m\n\u001b[1;32m    248\u001b[0m     \u001b[38;5;28;01mreturn\u001b[39;00m poller\n\u001b[1;32m    250\u001b[0m \u001b[38;5;28;01mexcept\u001b[39;00m \u001b[38;5;167;01mException\u001b[39;00m \u001b[38;5;28;01mas\u001b[39;00m ex:\n",
            "File \u001b[0;32m/anaconda/envs/azureml_py310_sdkv2/lib/python3.10/site-packages/azure/core/tracing/decorator.py:76\u001b[0m, in \u001b[0;36mdistributed_trace.<locals>.decorator.<locals>.wrapper_use_tracer\u001b[0;34m(*args, **kwargs)\u001b[0m\n\u001b[1;32m     74\u001b[0m span_impl_type \u001b[38;5;241m=\u001b[39m settings\u001b[38;5;241m.\u001b[39mtracing_implementation()\n\u001b[1;32m     75\u001b[0m \u001b[38;5;28;01mif\u001b[39;00m span_impl_type \u001b[38;5;129;01mis\u001b[39;00m \u001b[38;5;28;01mNone\u001b[39;00m:\n\u001b[0;32m---> 76\u001b[0m     \u001b[38;5;28;01mreturn\u001b[39;00m \u001b[43mfunc\u001b[49m\u001b[43m(\u001b[49m\u001b[38;5;241;43m*\u001b[39;49m\u001b[43margs\u001b[49m\u001b[43m,\u001b[49m\u001b[43m \u001b[49m\u001b[38;5;241;43m*\u001b[39;49m\u001b[38;5;241;43m*\u001b[39;49m\u001b[43mkwargs\u001b[49m\u001b[43m)\u001b[49m\n\u001b[1;32m     78\u001b[0m \u001b[38;5;66;03m# Merge span is parameter is set, but only if no explicit parent are passed\u001b[39;00m\n\u001b[1;32m     79\u001b[0m \u001b[38;5;28;01mif\u001b[39;00m merge_span \u001b[38;5;129;01mand\u001b[39;00m \u001b[38;5;129;01mnot\u001b[39;00m passed_in_parent:\n",
            "File \u001b[0;32m/anaconda/envs/azureml_py310_sdkv2/lib/python3.10/site-packages/azure/ai/ml/_restclient/v2022_02_01_preview/operations/_online_endpoints_operations.py:921\u001b[0m, in \u001b[0;36mOnlineEndpointsOperations.begin_create_or_update\u001b[0;34m(self, resource_group_name, workspace_name, endpoint_name, body, **kwargs)\u001b[0m\n\u001b[1;32m    919\u001b[0m cont_token \u001b[38;5;241m=\u001b[39m kwargs\u001b[38;5;241m.\u001b[39mpop(\u001b[38;5;124m'\u001b[39m\u001b[38;5;124mcontinuation_token\u001b[39m\u001b[38;5;124m'\u001b[39m, \u001b[38;5;28;01mNone\u001b[39;00m)  \u001b[38;5;66;03m# type: Optional[str]\u001b[39;00m\n\u001b[1;32m    920\u001b[0m \u001b[38;5;28;01mif\u001b[39;00m cont_token \u001b[38;5;129;01mis\u001b[39;00m \u001b[38;5;28;01mNone\u001b[39;00m:\n\u001b[0;32m--> 921\u001b[0m     raw_result \u001b[38;5;241m=\u001b[39m \u001b[38;5;28;43mself\u001b[39;49m\u001b[38;5;241;43m.\u001b[39;49m\u001b[43m_create_or_update_initial\u001b[49m\u001b[43m(\u001b[49m\n\u001b[1;32m    922\u001b[0m \u001b[43m        \u001b[49m\u001b[43mresource_group_name\u001b[49m\u001b[38;5;241;43m=\u001b[39;49m\u001b[43mresource_group_name\u001b[49m\u001b[43m,\u001b[49m\n\u001b[1;32m    923\u001b[0m \u001b[43m        \u001b[49m\u001b[43mworkspace_name\u001b[49m\u001b[38;5;241;43m=\u001b[39;49m\u001b[43mworkspace_name\u001b[49m\u001b[43m,\u001b[49m\n\u001b[1;32m    924\u001b[0m \u001b[43m        \u001b[49m\u001b[43mendpoint_name\u001b[49m\u001b[38;5;241;43m=\u001b[39;49m\u001b[43mendpoint_name\u001b[49m\u001b[43m,\u001b[49m\n\u001b[1;32m    925\u001b[0m \u001b[43m        \u001b[49m\u001b[43mbody\u001b[49m\u001b[38;5;241;43m=\u001b[39;49m\u001b[43mbody\u001b[49m\u001b[43m,\u001b[49m\n\u001b[1;32m    926\u001b[0m \u001b[43m        \u001b[49m\u001b[43mcontent_type\u001b[49m\u001b[38;5;241;43m=\u001b[39;49m\u001b[43mcontent_type\u001b[49m\u001b[43m,\u001b[49m\n\u001b[1;32m    927\u001b[0m \u001b[43m        \u001b[49m\u001b[38;5;28;43mcls\u001b[39;49m\u001b[38;5;241;43m=\u001b[39;49m\u001b[38;5;28;43;01mlambda\u001b[39;49;00m\u001b[43m \u001b[49m\u001b[43mx\u001b[49m\u001b[43m,\u001b[49m\u001b[43my\u001b[49m\u001b[43m,\u001b[49m\u001b[43mz\u001b[49m\u001b[43m:\u001b[49m\u001b[43m \u001b[49m\u001b[43mx\u001b[49m\u001b[43m,\u001b[49m\n\u001b[1;32m    928\u001b[0m \u001b[43m        \u001b[49m\u001b[38;5;241;43m*\u001b[39;49m\u001b[38;5;241;43m*\u001b[39;49m\u001b[43mkwargs\u001b[49m\n\u001b[1;32m    929\u001b[0m \u001b[43m    \u001b[49m\u001b[43m)\u001b[49m\n\u001b[1;32m    930\u001b[0m kwargs\u001b[38;5;241m.\u001b[39mpop(\u001b[38;5;124m'\u001b[39m\u001b[38;5;124merror_map\u001b[39m\u001b[38;5;124m'\u001b[39m, \u001b[38;5;28;01mNone\u001b[39;00m)\n\u001b[1;32m    932\u001b[0m \u001b[38;5;28;01mdef\u001b[39;00m \u001b[38;5;21mget_long_running_output\u001b[39m(pipeline_response):\n",
            "File \u001b[0;32m/anaconda/envs/azureml_py310_sdkv2/lib/python3.10/site-packages/azure/ai/ml/_restclient/v2022_02_01_preview/operations/_online_endpoints_operations.py:856\u001b[0m, in \u001b[0;36mOnlineEndpointsOperations._create_or_update_initial\u001b[0;34m(self, resource_group_name, workspace_name, endpoint_name, body, **kwargs)\u001b[0m\n\u001b[1;32m    854\u001b[0m \u001b[38;5;28;01mif\u001b[39;00m response\u001b[38;5;241m.\u001b[39mstatus_code \u001b[38;5;129;01mnot\u001b[39;00m \u001b[38;5;129;01min\u001b[39;00m [\u001b[38;5;241m200\u001b[39m, \u001b[38;5;241m201\u001b[39m]:\n\u001b[1;32m    855\u001b[0m     map_error(status_code\u001b[38;5;241m=\u001b[39mresponse\u001b[38;5;241m.\u001b[39mstatus_code, response\u001b[38;5;241m=\u001b[39mresponse, error_map\u001b[38;5;241m=\u001b[39merror_map)\n\u001b[0;32m--> 856\u001b[0m     \u001b[38;5;28;01mraise\u001b[39;00m HttpResponseError(response\u001b[38;5;241m=\u001b[39mresponse, error_format\u001b[38;5;241m=\u001b[39mARMErrorFormat)\n\u001b[1;32m    858\u001b[0m response_headers \u001b[38;5;241m=\u001b[39m {}\n\u001b[1;32m    859\u001b[0m \u001b[38;5;28;01mif\u001b[39;00m response\u001b[38;5;241m.\u001b[39mstatus_code \u001b[38;5;241m==\u001b[39m \u001b[38;5;241m200\u001b[39m:\n",
            "\u001b[0;31mHttpResponseError\u001b[0m: (BadRequest) The request is invalid.\nCode: BadRequest\nMessage: The request is invalid.\nException Details:\t(InferencingClientCallFailed) {{\"errors\":{{\"DeploymentWeights\":[\"Deployments given positive traffic values should be either in a successful or failed state. Unmatched deployments: [blue]\"]}},\"title\":\"One or more validation errors occurred.\"}}\n\tCode: InferencingClientCallFailed\n\tMessage: {{\"errors\":{{\"DeploymentWeights\":[\"Deployments given positive traffic values should be either in a successful or failed state. Unmatched deployments: [blue]\"]}},\"title\":\"One or more validation errors occurred.\"}}\nAdditional Information:Type: ComponentName\nInfo: {\n    \"value\": \"managementfrontend\"\n}Type: Correlation\nInfo: {\n    \"value\": {\n        \"operation\": \"262ac792d6a1a2e507c6ff1c559bede5\",\n        \"request\": \"2ca0dff51c697669\"\n    }\n}Type: Environment\nInfo: {\n    \"value\": \"eastus2\"\n}Type: Location\nInfo: {\n    \"value\": \"eastus2\"\n}Type: Time\nInfo: {\n    \"value\": \"2023-10-21T15:50:13.155054+00:00\"\n}"
          ]
        }
      ],
      "source": [
        "# blue deployment takes 100 traffic\n",
        "endpoint.traffic = {\"blue\": 100}\n",
        "ml_client.online_endpoints.begin_create_or_update(endpoint)"
      ]
    },
    {
      "cell_type": "code",
      "execution_count": null,
      "metadata": {
        "gather": {
          "logged": 1697903172353
        },
        "jupyter": {
          "outputs_hidden": false,
          "source_hidden": false
        },
        "nteract": {
          "transient": {
            "deleting": false
          }
        }
      },
      "outputs": [],
      "source": [
        "ml_client.online_endpoints.get(name=endpoint_name)"
      ]
    },
    {
      "cell_type": "code",
      "execution_count": null,
      "metadata": {
        "gather": {
          "logged": 1697903172437
        },
        "jupyter": {
          "outputs_hidden": false,
          "source_hidden": false
        },
        "nteract": {
          "transient": {
            "deleting": false
          }
        }
      },
      "outputs": [],
      "source": [
        "for endpoint in ml_client.online_endpoints.list():\n",
        "    print(endpoint.name)"
      ]
    },
    {
      "cell_type": "code",
      "execution_count": null,
      "metadata": {
        "gather": {
          "logged": 1697903172517
        },
        "jupyter": {
          "outputs_hidden": false,
          "source_hidden": false
        },
        "nteract": {
          "transient": {
            "deleting": false
          }
        }
      },
      "outputs": [],
      "source": [
        "ml_client.online_deployments.get_logs(\n",
        "    name=\"blue\", endpoint_name=endpoint_name, lines=50\n",
        ")"
      ]
    },
    {
      "cell_type": "code",
      "execution_count": null,
      "metadata": {
        "gather": {
          "logged": 1697903172597
        },
        "jupyter": {
          "outputs_hidden": false,
          "source_hidden": false
        },
        "nteract": {
          "transient": {
            "deleting": false
          }
        }
      },
      "outputs": [],
      "source": [
        "ml_client.online_endpoints.invoke(\n",
        "    endpoint_name=endpoint_name,\n",
        "    deployment_name=\"blue\",\n",
        "    request_file=\"sample-request.json\",\n",
        ")"
      ]
    },
    {
      "cell_type": "code",
      "execution_count": null,
      "metadata": {
        "gather": {
          "logged": 1697903172670
        },
        "jupyter": {
          "outputs_hidden": false,
          "source_hidden": false
        },
        "nteract": {
          "transient": {
            "deleting": false
          }
        }
      },
      "outputs": [],
      "source": [
        "ml_client.online_endpoints.begin_delete(name=endpoint_name)"
      ]
    },
    {
      "cell_type": "code",
      "execution_count": null,
      "metadata": {
        "gather": {
          "logged": 1697903172752
        },
        "jupyter": {
          "outputs_hidden": false,
          "source_hidden": false
        },
        "nteract": {
          "transient": {
            "deleting": false
          }
        }
      },
      "outputs": [],
      "source": [
        "token =  ml_client.online_endpoints.get_keys(name=endpoint_name).primary_key\n"
      ]
    }
  ],
  "metadata": {
    "kernel_info": {
      "name": "python310-sdkv2"
    },
    "kernelspec": {
      "display_name": "Python 3.10 - SDK v2",
      "language": "python",
      "name": "python310-sdkv2"
    },
    "language_info": {
      "codemirror_mode": {
        "name": "ipython",
        "version": 3
      },
      "file_extension": ".py",
      "mimetype": "text/x-python",
      "name": "python",
      "nbconvert_exporter": "python",
      "pygments_lexer": "ipython3",
      "version": "3.10.11"
    },
    "microsoft": {
      "host": {
        "AzureML": {
          "notebookHasBeenCompleted": true
        }
      },
      "ms_spell_check": {
        "ms_spell_check_language": "en"
      }
    },
    "nteract": {
      "version": "nteract-front-end@1.0.0"
    }
  },
  "nbformat": 4,
  "nbformat_minor": 2
}
